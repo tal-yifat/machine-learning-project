{
 "cells": [
  {
   "cell_type": "markdown",
   "metadata": {
    "collapsed": true
   },
   "source": [
    "## A Deep Neural Network Model\n",
    "\n",
    "This notebook takes the preprocessed dataset from the previous notebook and develops a DNN model to predict property violations. The preprocessing is repeated here, without the data exploration."
   ]
  },
  {
   "cell_type": "code",
   "execution_count": 3,
   "metadata": {},
   "outputs": [],
   "source": [
    "import pandas as pd\n",
    "import numpy as np\n",
    "import matplotlib.pyplot as plt\n",
    "%matplotlib inline\n",
    "import sklearn.preprocessing as prep\n",
    "from sklearn.model_selection import train_test_split\n",
    "from sklearn.metrics import roc_curve, auc\n",
    "from sklearn.model_selection import cross_val_score"
   ]
  },
  {
   "cell_type": "code",
   "execution_count": 4,
   "metadata": {},
   "outputs": [
    {
     "name": "stderr",
     "output_type": "stream",
     "text": [
      "/anaconda/envs/tensorflow/lib/python3.6/site-packages/IPython/core/interactiveshell.py:2728: DtypeWarning: Columns (11,12,31) have mixed types. Specify dtype option on import or set low_memory=False.\n",
      "  interactivity=interactivity, compiler=compiler, result=result)\n"
     ]
    }
   ],
   "source": [
    "## Import Data ##\n",
    "df_train = pd.read_csv(\"/Users/tal/Dropbox/Data_Science/Sample ML Project/train.csv\",\n",
    "                       encoding = 'ISO-8859-1')\n",
    "df_test = pd.read_csv(\"/Users/tal/Dropbox/Data_Science/Sample ML Project/test.csv\",\n",
    "                       encoding = 'ISO-8859-1')\n",
    "df_addresses = pd.read_csv(\"/Users/tal/Dropbox/Data_Science/Sample ML Project/addresses.csv\",\n",
    "                       encoding = 'ISO-8859-1')\n",
    "df_latlon = pd.read_csv(\"/Users/tal/Dropbox/Data_Science/Sample ML Project/latlons.csv\",\n",
    "                       encoding = 'ISO-8859-1')"
   ]
  },
  {
   "cell_type": "code",
   "execution_count": 5,
   "metadata": {},
   "outputs": [],
   "source": [
    "## Prepare initial train and test dataframes ##\n",
    "df_addresses = df_addresses.merge(df_latlon, how = 'outer', on = 'address')\n",
    "df_train = df_train.merge(df_addresses, how = 'inner', on = 'ticket_id')\n",
    "df_train = df_train[~pd.isnull(df_train['compliance'])]\n",
    "df_train = df_train.set_index('ticket_id')\n",
    "\n",
    "df_test = df_test.merge(df_addresses, how = 'inner', on = 'ticket_id')\n",
    "df_test = df_test.set_index('ticket_id')\n",
    "\n",
    "y = df_train['compliance']"
   ]
  },
  {
   "cell_type": "markdown",
   "metadata": {},
   "source": [
    "## Feature preprocessing"
   ]
  },
  {
   "cell_type": "code",
   "execution_count": 6,
   "metadata": {},
   "outputs": [],
   "source": [
    "# Concatenate training and test set for consistent preprocessing\n",
    "df_joint = pd.concat([df_train, df_test], copy = False)\n",
    "\n",
    "# Select features\n",
    "df_joint = df_joint[['agency_name', 'state', 'violation_code', 'disposition', 'fine_amount', 'late_fee', \n",
    "                     'discount_amount', 'lat', 'lon']]"
   ]
  },
  {
   "cell_type": "code",
   "execution_count": 7,
   "metadata": {},
   "outputs": [],
   "source": [
    "def set_rare_cat_to_zero(column, min_count = 100):\n",
    "    # This function changes to \"other\" categories with fewer occurrences than a given value.\n",
    "    vc = column.value_counts()\n",
    "    values_to_keep = vc[vc > min_count].index\n",
    "    return column.apply (lambda x: x if x in values_to_keep else \"other\")  "
   ]
  },
  {
   "cell_type": "code",
   "execution_count": 8,
   "metadata": {},
   "outputs": [],
   "source": [
    "# Reduce the number of categorical values\n",
    "categorical_vars = ['agency_name', 'state', 'violation_code', 'disposition']\n",
    "for var in categorical_vars: set_rare_cat_to_zero(df_joint[var])"
   ]
  },
  {
   "cell_type": "code",
   "execution_count": 9,
   "metadata": {},
   "outputs": [],
   "source": [
    "# As the prompt for the final project indicates, there appears to be a small number of incorrect values that are outside \n",
    "# the city limits. Here, I set values that are clearly outside the city limits to the mean.\n",
    "\n",
    "mean_lat = df_joint['lat'].mean()\n",
    "mean_lon = df_joint['lon'].mean()\n",
    "\n",
    "df_joint['lat'] = df_joint['lat'].apply(lambda x: x if (x > 42.23) and (x < 42.451) else mean_lat)  \n",
    "df_joint['lon'] = df_joint['lon'].apply(lambda x: x if (x < -82.88) and (x > -83.3) else mean_lon)  "
   ]
  },
  {
   "cell_type": "code",
   "execution_count": 10,
   "metadata": {},
   "outputs": [],
   "source": [
    "# Add polynomial features to geographical data\n",
    "poly = prep.PolynomialFeatures(3)\n",
    "lonlat_poly = poly.fit_transform(df_joint[['lat', 'lon']])\n",
    "poly_names = poly.get_feature_names(input_features=['lat', 'lon'])\n",
    "for i in range (3,10):\n",
    "    df_joint[poly_names[i]] = lonlat_poly[:,i]"
   ]
  },
  {
   "cell_type": "code",
   "execution_count": 11,
   "metadata": {},
   "outputs": [],
   "source": [
    "# Convert categorical features into dummy variables \n",
    "df_joint_dum = pd.get_dummies(df_joint, drop_first = True, sparse = True)"
   ]
  },
  {
   "cell_type": "code",
   "execution_count": 12,
   "metadata": {},
   "outputs": [],
   "source": [
    "# Scale features\n",
    "numerical_vars = list(df_joint_dum.columns[0:12])\n",
    "scaler = prep.MinMaxScaler(feature_range = (0, 1))\n",
    "df_joint_dum[numerical_vars] = scaler.fit_transform(df_joint_dum[numerical_vars])"
   ]
  },
  {
   "cell_type": "code",
   "execution_count": 13,
   "metadata": {},
   "outputs": [],
   "source": [
    "# Re-split dataframe into training and test sets\n",
    "df_train_processed = df_joint_dum.merge(pd.DataFrame(df_train.index), how = 'inner', right_on = 'ticket_id', \n",
    "                                        left_index = True)\n",
    "df_test_processed = df_joint_dum.merge(pd.DataFrame(df_test.index), how = 'inner', right_on = 'ticket_id', \n",
    "                                       left_index = True)\n",
    "df_train_processed = df_train_processed.set_index('ticket_id')\n",
    "df_test_processed = df_test_processed.set_index('ticket_id')"
   ]
  },
  {
   "cell_type": "code",
   "execution_count": 14,
   "metadata": {},
   "outputs": [],
   "source": [
    "# Splitting the data to training and validation sets\n",
    "X_train, X_val, y_train, y_val = train_test_split(df_train_processed, y, test_size = 0.25, random_state = 0)"
   ]
  },
  {
   "cell_type": "markdown",
   "metadata": {},
   "source": [
    "## Deep Learning Model"
   ]
  },
  {
   "cell_type": "code",
   "execution_count": 15,
   "metadata": {},
   "outputs": [],
   "source": [
    "import tensorflow as tf\n",
    "from tensorflow.python.framework import ops\n",
    "from sklearn.metrics import roc_curve, auc\n",
    "import math\n",
    "import time"
   ]
  },
  {
   "cell_type": "code",
   "execution_count": 16,
   "metadata": {},
   "outputs": [],
   "source": [
    "# Restructure train and validation sets for DNN\n",
    "X_train = X_train.values.T\n",
    "X_val = X_val.values.T\n",
    "Y_train = y_train.values.reshape(1,-1)\n",
    "Y_val = y_val.values.reshape(1,-1)\n",
    "Y_train = np.concatenate((Y_train, 1 - Y_train))\n",
    "Y_val = np.concatenate((Y_val, 1 - Y_val))"
   ]
  },
  {
   "cell_type": "code",
   "execution_count": 17,
   "metadata": {},
   "outputs": [],
   "source": [
    "def random_mini_batches(X, Y, mini_batch_size = 64, seed = 0):\n",
    "    \"\"\"\n",
    "    This is a utility function from the course Improving Deep Neural Networks: Hyperparameter tuning, \n",
    "    Regularization and Optimization (by deeplearning.ai).\n",
    "    \n",
    "    The function creates a list of random minibatches from (X, Y)\n",
    "    \n",
    "    Arguments:\n",
    "    X -- input data, of shape (input size, number of examples)\n",
    "    Y -- true \"label\" vector (containing 0 if cat, 1 if non-cat), of shape (1, number of examples)\n",
    "    mini_batch_size - size of the mini-batches, integer\n",
    "    seed -- this is only for the purpose of grading, so that you're \"random minibatches are the same as ours.\n",
    "    \n",
    "    Returns:\n",
    "    mini_batches -- list of synchronous (mini_batch_X, mini_batch_Y)\n",
    "    \"\"\"\n",
    "    \n",
    "    m = int(X.shape[1])                  # number of training examples\n",
    "    mini_batches = []\n",
    "    np.random.seed(seed)\n",
    "    \n",
    "    # Step 1: Shuffle (X, Y)\n",
    "    permutation = list(np.random.permutation(m))\n",
    "    shuffled_X = X[:, permutation]\n",
    "    shuffled_Y = Y[:, permutation].reshape((int(Y.shape[0]), m))\n",
    "\n",
    "    # Step 2: Partition (shuffled_X, shuffled_Y). Minus the end case.\n",
    "    num_complete_minibatches = math.floor(m/mini_batch_size) # number of mini batches of size mini_batch_size in your partitionning\n",
    "    for k in range(0, num_complete_minibatches):\n",
    "        mini_batch_X = shuffled_X[:, k * mini_batch_size : k * mini_batch_size + mini_batch_size]\n",
    "        mini_batch_Y = shuffled_Y[:, k * mini_batch_size : k * mini_batch_size + mini_batch_size]\n",
    "        mini_batch = (mini_batch_X, mini_batch_Y)\n",
    "        mini_batches.append(mini_batch)\n",
    "    \n",
    "    # Handling the end case (last mini-batch < mini_batch_size)\n",
    "    if m % mini_batch_size != 0:\n",
    "        mini_batch_X = shuffled_X[:, num_complete_minibatches * mini_batch_size : m]\n",
    "        mini_batch_Y = shuffled_Y[:, num_complete_minibatches * mini_batch_size : m]\n",
    "        mini_batch = (mini_batch_X, mini_batch_Y)\n",
    "        mini_batches.append(mini_batch)\n",
    "    \n",
    "    return mini_batches"
   ]
  },
  {
   "cell_type": "code",
   "execution_count": 18,
   "metadata": {},
   "outputs": [],
   "source": [
    "### Network Configuration ###\n",
    "ops.reset_default_graph()  \n",
    "\n",
    "print_cost = True\n",
    "print_freq = 50\n",
    "\n",
    "# Configure hyperparameters\n",
    "NODES_IN_HIDDEN_LAYER_1 = 100\n",
    "NODES_IN_HIDDEN_LAYER_2 = 100\n",
    "LEARNING_RATE = .05\n",
    "NUM_EPOCHS = 200 \n",
    "MINIBATCH_SIZE = 64\n",
    "REGULARIZATION_CONSTANT = 0.0001 \n",
    "\n",
    "tf.set_random_seed(1)                             # to keep consistent results\n",
    "seed = 3                                          # to keep consistent results\n",
    "m = int(X_train.shape[1])                         # m : number of examples in the train set\n",
    "n_x = int(X_train.shape[0])                       # n_x: input size\n",
    "n_y = int(Y_train.shape[0])                       # n_y : output size \n",
    "num_minibatches = int(m/MINIBATCH_SIZE) \n",
    "costs = []  \n",
    "\n",
    "# Create Placeholders \n",
    "X = tf.placeholder(tf.float32, shape = (n_x, None), name = 'X')\n",
    "Y = tf.placeholder(tf.float32, shape = (n_y, None), name = 'Y')\n",
    "\n",
    "# Initialize parameters  \n",
    "W1 = tf.get_variable(\"W1\", [NODES_IN_HIDDEN_LAYER_1, n_x], initializer = tf.contrib.layers.xavier_initializer(seed = 1), regularizer = tf.contrib.layers.l2_regularizer(REGULARIZATION_CONSTANT))\n",
    "b1 = tf.get_variable(\"b1\", [NODES_IN_HIDDEN_LAYER_1, 1], initializer = tf.zeros_initializer(), regularizer = tf.contrib.layers.l2_regularizer(REGULARIZATION_CONSTANT))\n",
    "W2 = tf.get_variable(\"W2\", [NODES_IN_HIDDEN_LAYER_2, NODES_IN_HIDDEN_LAYER_1], initializer = tf.contrib.layers.xavier_initializer(seed = 1), regularizer = tf.contrib.layers.l2_regularizer(REGULARIZATION_CONSTANT))\n",
    "b2 = tf.get_variable(\"b2\", [NODES_IN_HIDDEN_LAYER_2, 1], initializer = tf.zeros_initializer(), regularizer = tf.contrib.layers.l2_regularizer(REGULARIZATION_CONSTANT))\n",
    "W3 = tf.get_variable(\"W3\", [2, NODES_IN_HIDDEN_LAYER_2], initializer = tf.contrib.layers.xavier_initializer(seed = 1), regularizer = tf.contrib.layers.l2_regularizer(REGULARIZATION_CONSTANT))\n",
    "b3 = tf.get_variable(\"b3\", [2, 1], initializer = tf.zeros_initializer(), regularizer = tf.contrib.layers.l2_regularizer(REGULARIZATION_CONSTANT))\n",
    "\n",
    "# Forward propogation\n",
    "Z1 = tf.matmul(W1, tf.cast(X, tf.float32)) + b1                                   \n",
    "A1 = tf.nn.relu(Z1)                                         \n",
    "Z2 = tf.add(tf.matmul(W2, A1), b2)                                        \n",
    "A2 = tf.nn.relu(Z2)                                           \n",
    "Z3 = tf.add(tf.matmul(W3, A2), b3)                                             \n",
    "\n",
    "# Compute costs\n",
    "logits = tf.transpose(Z3)\n",
    "labels = tf.transpose(Y)\n",
    "# tf.get_variable('a', regularizer=tf.contrib.layers.l2_regularizer(REGULARIZATION_CONSTANT))\n",
    "cost = tf.reduce_mean(tf.nn.softmax_cross_entropy_with_logits_v2(logits = logits, labels = labels)) + tf.losses.get_regularization_loss()\n",
    "\n",
    "# Define gradient descent optimizer for backward propogation\n",
    "optimizer = tf.train.GradientDescentOptimizer(learning_rate = LEARNING_RATE).minimize(cost)\n",
    "\n",
    "# Initialize all the variables\n",
    "init = tf.global_variables_initializer()"
   ]
  },
  {
   "cell_type": "code",
   "execution_count": 19,
   "metadata": {},
   "outputs": [
    {
     "name": "stdout",
     "output_type": "stream",
     "text": [
      "Cost after epoch 0: 0.235457  Time: 5.824993\n",
      "Cost after epoch 50: 0.210971  Time: 225.186451\n",
      "Cost after epoch 100: 0.206087  Time: 432.805540\n",
      "Cost after epoch 150: 0.203960  Time: 641.934843\n"
     ]
    },
    {
     "data": {
      "image/png": "[encoded data removed]",
      "text/plain": [
       "<Figure size 432x288 with 1 Axes>"
      ]
     },
     "metadata": {},
     "output_type": "display_data"
    },
    {
     "name": "stdout",
     "output_type": "stream",
     "text": [
      "Parameters have been trained!\n",
      "Train AUC is 0.8214090003194859\n",
      "Test AUC is 0.8025508839091186\n"
     ]
    }
   ],
   "source": [
    "with tf.Session() as sess:\n",
    "\n",
    "    # Run the initialization\n",
    "    sess.run(init)\n",
    "    \n",
    "    start = time.time()\n",
    "\n",
    "    # Do the training loop\n",
    "    for epoch in range(NUM_EPOCHS):\n",
    "\n",
    "        epoch_cost = 0.                       # Define a cost related to an epoch\n",
    "        seed = seed + 1\n",
    "        minibatches = random_mini_batches(X_train, Y_train, MINIBATCH_SIZE, seed)\n",
    "\n",
    "        for minibatch in minibatches:\n",
    "\n",
    "            # Select a minibatch\n",
    "            (minibatch_X, minibatch_Y) = minibatch\n",
    "            \n",
    "            # Run the session to execute the \"optimizer\" and the \"cost\", the feedict should contain a minibatch for (X,Y).\n",
    "            _ , minibatch_cost = sess.run([optimizer, cost], feed_dict={X: minibatch_X, Y: minibatch_Y})\n",
    "  \n",
    "            epoch_cost += minibatch_cost / num_minibatches\n",
    "\n",
    "        # Print the cost every epoch\n",
    "        if print_cost == True and epoch % print_freq == 0:\n",
    "            print (\"Cost after epoch %i: %f\" % (epoch, epoch_cost), \" Time: %f\" % (time.time() - start))\n",
    "        if print_cost == True and epoch % 5 == 0:\n",
    "            costs.append(epoch_cost)\n",
    "\n",
    "    # plot the cost\n",
    "    plt.plot(np.squeeze(costs))\n",
    "    plt.ylabel('cost')\n",
    "    plt.xlabel('iterations (per tens)')\n",
    "    plt.title(\"Learning rate =\" + str(LEARNING_RATE))\n",
    "    plt.show()\n",
    "\n",
    "    print (\"Parameters have been trained!\")\n",
    "\n",
    "    prediction = tf.sigmoid(Z3)    \n",
    "    fpr_dnn, tpr_dnn, _ = roc_curve(y_train, prediction.eval({X: X_train, Y: Y_train})[0])\n",
    "    train_auc = auc(fpr_dnn, tpr_dnn)\n",
    "    fpr_dnn, tpr_dnn, _ = roc_curve(y_val, prediction.eval({X: X_val, Y: Y_val})[0])\n",
    "    test_auc = auc(fpr_dnn, tpr_dnn)\n",
    "\n",
    "\n",
    "    print ('Train AUC is', train_auc)    \n",
    "    print ('Test AUC is', test_auc)"
   ]
  },
  {
   "cell_type": "markdown",
   "metadata": {},
   "source": [
    "## Appendix - Hyperparameter Tuning\n",
    "### Initial model\n",
    "#### Configuration\n",
    "* NODES_IN_HIDDEN_LAYER_1 = 25\n",
    "* NODES_IN_HIDDEN_LAYER_2 = 12\n",
    "* LEARNING_RATE = 0.0001\n",
    "* NUM_EPOCHS = 1500 \n",
    "* MINIBATCH_SIZE = 32\n",
    "#### Results\n",
    "* Time: over two hour\n",
    "* Test AUC (after 100 epochs): ~.75\n",
    "* Test AUC (1500 epochs): .7886\n",
    "* Cost (1500) epochs: .2108\n",
    "\n",
    "The initial model took over two hours to train and had AUC that was lower than all the other tested machine lerning models. \n",
    "### Tuning the learning rate\n",
    "As a first step, I seek to increase training efficiency so I can experiment and iterate quickly. Therefore, I am starting by optimizing the learning rate. I'm running a short training (100 epochs) on the following model:\n",
    "#### Configuration\n",
    "* NODES_IN_HIDDEN_LAYER_1 = 100\n",
    "* NODES_IN_HIDDEN_LAYER_2 = 100\n",
    "* LEARNING_RATE = 0.0002\n",
    "* NUM_EPOCHS = 100 \n",
    "* MINIBATCH_SIZE = 64\n",
    "#### Results\n",
    "* Time (90): 387 sec\n",
    "* Test AUC (100): .7662\n",
    "* Cost (90 epochs): .2187\n",
    "\n",
    "This model gets an AUC that is not too far from the initial model in a small fraction of the time. I keep running experiments using 50-100 epochs. \n",
    "\n",
    "  Architecture       | Hyperparams       | Results    \n",
    "  -------------      | -------------     | --------------------\n",
    "  HL1:100, HL2:100   | LR:0.0005, MBS:64 | TestAUC(100e):.7745, TrainAUC: .7772, Time(90e):367\n",
    "  HL1:100, HL2:100   | LR:0.005,  MBS:64 | TestAUC(50e):.7935, TrainAUC:7935, Time(40e):164    |\n",
    "  HL1:100, HL2:100   | **LR:0.05**,   MBS:64 | **TestAUC(50e):.8018**, TrainAUC:.8154, Time(40e):168    |\n",
    "  HL1:100, HL2:100   | LR:0.1,    MBS:64 | TestAUC(50e):.7967, TrainAUC:.8091, Time(40e):178    |\n",
    "  HL1:100, HL2:100   | LR:0.5,    MBS:64 | TestAUC(50e):.7936, TrainAUC:..8154, Time(40e):173    |\n",
    "**HL#**: number of neurons in hidden layer #.  **LR**: learning rate.  **(#e)**: number of epochs after which the metric is measured.\n",
    "  \n",
    "The best learning rate is 0.05\n",
    "### Tuning the minibatch size\n",
    " Architecture       | Hyperparams       | Results    \n",
    "  -------------      | -------------     | --------------------\n",
    "  HL1:100, HL2:100   | LR:0.05,  MBS:32 | TestAUC(50e):.8020, TrainAUC:.8143, Time(40e):258    |\n",
    "  HL1:100, HL2:100   | LR:0.05,   **MBS:64** | TestAUC(50e):.8018, TrainAUC:.8154, Time(40e):168    |\n",
    "  HL1:100, HL2:100   | LR:0.05,    MBS:128 | TestAUC(50e):.7983, TrainAUC:.8069, Time(40e):134    |\n",
    "Considering both Test AUC and training time, the optimal Minibatch Size is 64. \n",
    "### Tuning the network architecture\n",
    " Architecture       | Hyperparams       | Results    \n",
    "  -------------      | -------------    | --------------------\n",
    "  HL1:100, HL2:100   | LR:0.05, MBS:64  | TestAUC(50e):.8018, TrainAUC:.8154, Time(40e):168    |\n",
    "  HL1:500, HL2:500   | LR:0.05, MBS:64  | TestAUC(50e):.8031, TrainAUC:.8171, Time(40e):438    |\n",
    "  HL1:20, HL2:20   | LR:0.05, MBS:64  | TestAUC(100e):.7857, TrainAUC:.8008, Time(90e):293    |\n",
    "  HL1:50, HL2:50   | LR:0.05, MBS:64  | TestAUC(100e):.8031, TrainAUC:.8189, Time(90e):324    |\n",
    "  HL1:150, HL2:72   | LR:0.05, MBS:64  | TestAUC(50e):.8018, TrainAUC:.8129, Time(40e):176    |\n",
    "  HL1:100, HL2:100, HL3:100   | LR:0.05, MBS:64  | TestAUC(50e):.8008, TrainAUC:.8069, Time(40e):134    |\n",
    "I could experiment more here (especially using more epochs and regularization), but a preliminary testing shows that the model with two layers of 100 each is performing well, in terms of tradeoff between AUC and training time.\n",
    "### Tuning the regularization constant\n",
    "I ran the model with the chosen hyperparameters with 1000 epochs, and the result indicated that it overfit: TestAUC(1000e):.8530, TrainAUC:(1000e).7533. Therefore, I added l2 regularization.\n",
    "\n",
    "Reg Constant       | Results    | Comments\n",
    "  -------------      | -------------    | --------------------\n",
    "  Reg Constant: 0   |  TestAUC(50e):.8018, TrainAUC:(50e).8154, TestAUC(1000e):.7533, TrainAUC:(1000e).8530   | Benchmark with no regularization\n",
    "Reg Constant: 0.001 | TrainAUC(200e):.7949, Test AUC(200e):.7900 | This model seems to underfit\n",
    "Reg Constant: 0.0001 | TestAUC(100e):.8021, TrainAUC:(100e).8155, TestAUC(200e):.8025, TrainAUC:(200e).8214| TrainAUC improves, but not TestAUC: overfitting \n",
    "Reg Constant: 0.0002 | TrainAUC(200e):.8151, Test AUC(200e):.8005 | After 200 epochs, less overfitting than 0.0001.\n",
    "Reg Constant: 0.0002 | TrainAUC(1000e):.8180, Test AUC(1000e):.7972 | See below\n",
    "\n",
    "The regularization (0.0002) with 1,000 epochs yields lesser results than the unregularized model with 100 epochs. \n",
    "\n",
    "Overall, no DNN had a Test AUC that exceeded 0.8031. This is better than the Linear Regression model, but not as good as the Ranadom Forest and the KNN. It is possible the further tuning could improve this model. \n"
   ]
  },
  {
   "cell_type": "code",
   "execution_count": null,
   "metadata": {},
   "outputs": [],
   "source": []
  }
 ],
 "metadata": {
  "kernelspec": {
   "display_name": "Python 3",
   "language": "python",
   "name": "python3"
  },
  "language_info": {
   "codemirror_mode": {
    "name": "ipython",
    "version": 3
   },
   "file_extension": ".py",
   "mimetype": "text/x-python",
   "name": "python",
   "nbconvert_exporter": "python",
   "pygments_lexer": "ipython3",
   "version": "3.6.4"
  }
 },
 "nbformat": 4,
 "nbformat_minor": 2
}
